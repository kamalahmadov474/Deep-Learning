{
  "nbformat": 4,
  "nbformat_minor": 0,
  "metadata": {
    "colab": {
      "provenance": [],
      "include_colab_link": true
    },
    "kernelspec": {
      "name": "python3",
      "display_name": "Python 3"
    },
    "language_info": {
      "name": "python"
    }
  },
  "cells": [
    {
      "cell_type": "markdown",
      "metadata": {
        "id": "view-in-github",
        "colab_type": "text"
      },
      "source": [
        "<a href=\"https://colab.research.google.com/github/kamalahmadov474/Deep-Learning/blob/main/Sentiment_Analysis_using_LSTM.ipynb\" target=\"_parent\"><img src=\"https://colab.research.google.com/assets/colab-badge.svg\" alt=\"Open In Colab\"/></a>"
      ]
    },
    {
      "cell_type": "markdown",
      "source": [
        "Step 1: Import libraries\n"
      ],
      "metadata": {
        "id": "3zKCvxVSgNpZ"
      }
    },
    {
      "cell_type": "code",
      "execution_count": null,
      "metadata": {
        "id": "-Z45VnlWoGHZ"
      },
      "outputs": [],
      "source": [
        "import pandas as pd\n",
        "import numpy as np\n",
        "import re\n",
        "import tensorflow as tf\n",
        "from tensorflow.keras.preprocessing.text import Tokenizer\n",
        "from tensorflow.keras.preprocessing.sequence import pad_sequences\n",
        "from tensorflow.keras.models import Sequential\n",
        "from tensorflow.keras.layers import Embedding, LSTM, Dense, Dropout\n",
        "from sklearn.model_selection import train_test_split\n",
        "from sklearn.preprocessing import LabelEncoder"
      ]
    },
    {
      "cell_type": "markdown",
      "source": [
        "Step 2: Load the dataset\n"
      ],
      "metadata": {
        "id": "gIYMpVv1gRBw"
      }
    },
    {
      "cell_type": "code",
      "source": [
        "df = pd.read_csv('/content/IMDB-Dataset.csv')"
      ],
      "metadata": {
        "id": "_HanADn_oPGJ"
      },
      "execution_count": null,
      "outputs": []
    },
    {
      "cell_type": "markdown",
      "source": [
        "Step 3: Explore the dataset\n"
      ],
      "metadata": {
        "id": "Jl6Jc0S4gS6I"
      }
    },
    {
      "cell_type": "code",
      "source": [
        "print(df.head())\n",
        "print(df['sentiment'].value_counts())"
      ],
      "metadata": {
        "colab": {
          "base_uri": "https://localhost:8080/"
        },
        "id": "MxRDL5PmorhK",
        "outputId": "f83b444b-5e13-4987-f8b5-2fb3a3a26195"
      },
      "execution_count": null,
      "outputs": [
        {
          "output_type": "stream",
          "name": "stdout",
          "text": [
            "                                              review sentiment\n",
            "0  One of the other reviewers has mentioned that ...  positive\n",
            "1  A wonderful little production. <br /><br />The...  positive\n",
            "2  I thought this was a wonderful way to spend ti...  positive\n",
            "3  Basically there's a family where a little boy ...  negative\n",
            "4  Petter Mattei's \"Love in the Time of Money\" is...  positive\n",
            "sentiment\n",
            "positive    25000\n",
            "negative    25000\n",
            "Name: count, dtype: int64\n"
          ]
        }
      ]
    },
    {
      "cell_type": "markdown",
      "source": [
        "Step 4: Preprocess text\n"
      ],
      "metadata": {
        "id": "8Su8Og4-gVZ4"
      }
    },
    {
      "cell_type": "code",
      "source": [
        "def clean_text(text):\n",
        "    text = text.lower()\n",
        "    text = re.sub(r\"<.*?>\", \"\", text)         # Remove HTML tags\n",
        "    text = re.sub(r\"[^a-zA-Z']\", \" \", text)   # Keep only letters\n",
        "    text = re.sub(r\"\\s+\", \" \", text).strip()\n",
        "    return text\n",
        "\n",
        "df['review'] = df['review'].apply(clean_text)"
      ],
      "metadata": {
        "id": "2qTjUxHDotgi"
      },
      "execution_count": null,
      "outputs": []
    },
    {
      "cell_type": "markdown",
      "source": [
        "Step 5: Encode labels"
      ],
      "metadata": {
        "id": "ub825dnNgYFA"
      }
    },
    {
      "cell_type": "code",
      "source": [
        "le = LabelEncoder()\n",
        "df['sentiment'] = le.fit_transform(df['sentiment'])  # positive=1, negative=0"
      ],
      "metadata": {
        "id": "946rxqg7ozNq"
      },
      "execution_count": null,
      "outputs": []
    },
    {
      "cell_type": "markdown",
      "source": [
        "Step 6: Tokenize and pad sequences"
      ],
      "metadata": {
        "id": "IjhepT2QgaMQ"
      }
    },
    {
      "cell_type": "code",
      "source": [
        "tokenizer = Tokenizer(num_words=10000)\n",
        "tokenizer.fit_on_texts(df['review'])\n",
        "sequences = tokenizer.texts_to_sequences(df['review'])\n",
        "X = pad_sequences(sequences, maxlen=200)\n",
        "y = df['sentiment'].values"
      ],
      "metadata": {
        "id": "HJ1AkiYOo0iJ"
      },
      "execution_count": null,
      "outputs": []
    },
    {
      "cell_type": "markdown",
      "source": [
        "Step 7: Train-test split"
      ],
      "metadata": {
        "id": "yemIZod5gdIY"
      }
    },
    {
      "cell_type": "code",
      "source": [
        "X_train, X_test, y_train, y_test = train_test_split(X, y, test_size=0.2, random_state=42)"
      ],
      "metadata": {
        "id": "eolgYpdno5VZ"
      },
      "execution_count": null,
      "outputs": []
    },
    {
      "cell_type": "markdown",
      "source": [
        "Step 8: Build LSTM model"
      ],
      "metadata": {
        "id": "qZgosIoMge-4"
      }
    },
    {
      "cell_type": "code",
      "source": [
        "model = Sequential()\n",
        "model.add(Embedding(input_dim=10000, output_dim=128, input_length=200))\n",
        "model.add(LSTM(128, dropout=0.2, recurrent_dropout=0.2))\n",
        "model.add(Dense(1, activation='sigmoid'))\n",
        "\n",
        "model.compile(loss='binary_crossentropy', optimizer='adam', metrics=['accuracy'])\n"
      ],
      "metadata": {
        "id": "h4poCHxwo7tB"
      },
      "execution_count": null,
      "outputs": []
    },
    {
      "cell_type": "markdown",
      "source": [
        "Step 9: Train model"
      ],
      "metadata": {
        "id": "h1sYHSOqghsI"
      }
    },
    {
      "cell_type": "code",
      "source": [
        "history = model.fit(X_train, y_train, epochs=3, batch_size=64, validation_split=0.2)\n"
      ],
      "metadata": {
        "colab": {
          "base_uri": "https://localhost:8080/"
        },
        "id": "U_UPoseJo-tp",
        "outputId": "0d4a8791-1da6-4ca7-d0a9-99729eab5ae1"
      },
      "execution_count": null,
      "outputs": [
        {
          "output_type": "stream",
          "name": "stdout",
          "text": [
            "Epoch 1/3\n",
            "\u001b[1m500/500\u001b[0m \u001b[32m━━━━━━━━━━━━━━━━━━━━\u001b[0m\u001b[37m\u001b[0m \u001b[1m325s\u001b[0m 643ms/step - accuracy: 0.7150 - loss: 0.5410 - val_accuracy: 0.8460 - val_loss: 0.3657\n",
            "Epoch 2/3\n",
            "\u001b[1m500/500\u001b[0m \u001b[32m━━━━━━━━━━━━━━━━━━━━\u001b[0m\u001b[37m\u001b[0m \u001b[1m319s\u001b[0m 637ms/step - accuracy: 0.8602 - loss: 0.3412 - val_accuracy: 0.8619 - val_loss: 0.3466\n",
            "Epoch 3/3\n",
            "\u001b[1m500/500\u001b[0m \u001b[32m━━━━━━━━━━━━━━━━━━━━\u001b[0m\u001b[37m\u001b[0m \u001b[1m315s\u001b[0m 623ms/step - accuracy: 0.8880 - loss: 0.2846 - val_accuracy: 0.8661 - val_loss: 0.3341\n"
          ]
        }
      ]
    },
    {
      "cell_type": "markdown",
      "source": [
        "Step 10: Evaluate model"
      ],
      "metadata": {
        "id": "ao7Lra3vgj3Y"
      }
    },
    {
      "cell_type": "code",
      "source": [
        "for i in range(1, 10):\n",
        "    review_text = df['review'][i]\n",
        "    true_sentiment = df['sentiment'][i]\n",
        "\n",
        "    # Preprocess single review\n",
        "    sequence = tokenizer.texts_to_sequences([clean_text(review_text)])\n",
        "    padded = pad_sequences(sequence, maxlen=200)\n",
        "    prediction = model.predict(padded)[0][0]\n",
        "\n",
        "    # Convert prediction to label\n",
        "    predicted_label = \"positive\" if prediction > 0.5 else \"negative\"\n",
        "    true_label = \"positive\" if true_sentiment == 1 else \"negative\"\n",
        "    correct = predicted_label == true_label\n",
        "\n",
        "    # Print full output\n",
        "    print(f\"\\n--- Review #{i+1} ---\")\n",
        "    print(f\"Text:\\n{review_text}\")\n",
        "    print(f\"True Sentiment: {true_label}\")\n",
        "    print(f\"Predicted Sentiment: {predicted_label} (Confidence: {prediction:.2f})\")\n",
        "    print(f\"Correct: {correct}\")\n",
        "\n"
      ],
      "metadata": {
        "colab": {
          "base_uri": "https://localhost:8080/"
        },
        "id": "0-lQC_FlxikA",
        "outputId": "683b04c1-3e94-45e5-9f1b-1fbf68926a08"
      },
      "execution_count": null,
      "outputs": [
        {
          "output_type": "stream",
          "name": "stdout",
          "text": [
            "\u001b[1m1/1\u001b[0m \u001b[32m━━━━━━━━━━━━━━━━━━━━\u001b[0m\u001b[37m\u001b[0m \u001b[1m0s\u001b[0m 78ms/step\n",
            "\n",
            "--- Review #2 ---\n",
            "Text:\n",
            "a wonderful little production the filming technique is very unassuming very old time bbc fashion and gives a comforting and sometimes discomforting sense of realism to the entire piece the actors are extremely well chosen michael sheen not only has got all the polari but he has all the voices down pat too you can truly see the seamless editing guided by the references to williams' diary entries not only is it well worth the watching but it is a terrificly written and performed piece a masterful production about one of the great master's of comedy and his life the realism really comes home with the little things the fantasy of the guard which rather than use the traditional 'dream' techniques remains solid then disappears it plays on our knowledge and our senses particularly with the scenes concerning orton and halliwell and the sets particularly of their flat with halliwell's murals decorating every surface are terribly well done\n",
            "True Sentiment: positive\n",
            "Predicted Sentiment: positive (Confidence: 0.87)\n",
            "Correct: True\n",
            "\u001b[1m1/1\u001b[0m \u001b[32m━━━━━━━━━━━━━━━━━━━━\u001b[0m\u001b[37m\u001b[0m \u001b[1m0s\u001b[0m 77ms/step\n",
            "\n",
            "--- Review #3 ---\n",
            "Text:\n",
            "i thought this was a wonderful way to spend time on a too hot summer weekend sitting in the air conditioned theater and watching a light hearted comedy the plot is simplistic but the dialogue is witty and the characters are likable even the well bread suspected serial killer while some may be disappointed when they realize this is not match point risk addiction i thought it was proof that woody allen is still fully in control of the style many of us have grown to love this was the most i'd laughed at one of woody's comedies in years dare i say a decade while i've never been impressed with scarlet johanson in this she managed to tone down her sexy image and jumped right into a average but spirited young woman this may not be the crown jewel of his career but it was wittier than devil wears prada and more interesting than superman a great comedy to go see with friends\n",
            "True Sentiment: positive\n",
            "Predicted Sentiment: positive (Confidence: 0.83)\n",
            "Correct: True\n",
            "\u001b[1m1/1\u001b[0m \u001b[32m━━━━━━━━━━━━━━━━━━━━\u001b[0m\u001b[37m\u001b[0m \u001b[1m0s\u001b[0m 78ms/step\n",
            "\n",
            "--- Review #4 ---\n",
            "Text:\n",
            "basically there's a family where a little boy jake thinks there's a zombie in his closet his parents are fighting all the time this movie is slower than a soap opera and suddenly jake decides to become rambo and kill the zombie ok first of all when you're going to make a film you must decide if its a thriller or a drama as a drama the movie is watchable parents are divorcing arguing like in real life and then we have jake with his closet which totally ruins all the film i expected to see a boogeyman similar movie and instead i watched a drama with some meaningless thriller spots out of just for the well playing parents descent dialogs as for the shots with jake just ignore them\n",
            "True Sentiment: negative\n",
            "Predicted Sentiment: negative (Confidence: 0.18)\n",
            "Correct: True\n",
            "\u001b[1m1/1\u001b[0m \u001b[32m━━━━━━━━━━━━━━━━━━━━\u001b[0m\u001b[37m\u001b[0m \u001b[1m0s\u001b[0m 73ms/step\n",
            "\n",
            "--- Review #5 ---\n",
            "Text:\n",
            "petter mattei's love in the time of money is a visually stunning film to watch mr mattei offers us a vivid portrait about human relations this is a movie that seems to be telling us what money power and success do to people in the different situations we encounter this being a variation on the arthur schnitzler's play about the same theme the director transfers the action to the present time new york where all these different characters meet and connect each one is connected in one way or another to the next person but no one seems to know the previous point of contact stylishly the film has a sophisticated luxurious look we are taken to see how these people live and the world they live in their own habitat the only thing one gets out of all these souls in the picture is the different stages of loneliness each one inhabits a big city is not exactly the best place in which human relations find sincere fulfillment as one discerns is the case with most of the people we encounter the acting is good under mr mattei's direction steve buscemi rosario dawson carol kane michael imperioli adrian grenier and the rest of the talented cast make these characters come alive we wish mr mattei good luck and await anxiously for his next work\n",
            "True Sentiment: positive\n",
            "Predicted Sentiment: positive (Confidence: 0.96)\n",
            "Correct: True\n",
            "\u001b[1m1/1\u001b[0m \u001b[32m━━━━━━━━━━━━━━━━━━━━\u001b[0m\u001b[37m\u001b[0m \u001b[1m0s\u001b[0m 78ms/step\n",
            "\n",
            "--- Review #6 ---\n",
            "Text:\n",
            "probably my all time favorite movie a story of selflessness sacrifice and dedication to a noble cause but it's not preachy or boring it just never gets old despite my having seen it some or more times in the last years paul lukas' performance brings tears to my eyes and bette davis in one of her very few truly sympathetic roles is a delight the kids are as grandma says more like dressed up midgets than children but that only makes them more fun to watch and the mother's slow awakening to what's happening in the world and under her own roof is believable and startling if i had a dozen thumbs they'd all be up for this movie\n",
            "True Sentiment: positive\n",
            "Predicted Sentiment: positive (Confidence: 0.97)\n",
            "Correct: True\n",
            "\u001b[1m1/1\u001b[0m \u001b[32m━━━━━━━━━━━━━━━━━━━━\u001b[0m\u001b[37m\u001b[0m \u001b[1m0s\u001b[0m 70ms/step\n",
            "\n",
            "--- Review #7 ---\n",
            "Text:\n",
            "i sure would like to see a resurrection of a up dated seahunt series with the tech they have today it would bring back the kid excitement in me i grew up on black and white tv and seahunt with gunsmoke were my hero's every week you have my vote for a comeback of a new sea hunt we need a change of pace in tv and this would work for a world of under water adventure oh by the way thank you for an outlet like this to view many viewpoints about tv and the many movies so any ole way i believe i've got what i wanna say would be nice to read some more plus points about sea hunt if my rhymes would be lines would you let me submit or leave me out to be in doubt and have me to quit if this is so then i must go so lets do it\n",
            "True Sentiment: positive\n",
            "Predicted Sentiment: positive (Confidence: 0.69)\n",
            "Correct: True\n",
            "\u001b[1m1/1\u001b[0m \u001b[32m━━━━━━━━━━━━━━━━━━━━\u001b[0m\u001b[37m\u001b[0m \u001b[1m0s\u001b[0m 93ms/step\n",
            "\n",
            "--- Review #8 ---\n",
            "Text:\n",
            "this show was an amazing fresh innovative idea in the 's when it first aired the first or years were brilliant but things dropped off after that by the show was not really funny anymore and it's continued its decline further to the complete waste of time it is today it's truly disgraceful how far this show has fallen the writing is painfully bad the performances are almost as bad if not for the mildly entertaining respite of the guest hosts this show probably wouldn't still be on the air i find it so hard to believe that the same creator that hand selected the original cast also chose the band of hacks that followed how can one recognize such brilliance and then see fit to replace it with such mediocrity i felt i must give stars out of respect for the original cast that made this show such a huge success as it is now the show is just awful i can't believe it's still on the air\n",
            "True Sentiment: negative\n",
            "Predicted Sentiment: negative (Confidence: 0.03)\n",
            "Correct: True\n",
            "\u001b[1m1/1\u001b[0m \u001b[32m━━━━━━━━━━━━━━━━━━━━\u001b[0m\u001b[37m\u001b[0m \u001b[1m0s\u001b[0m 72ms/step\n",
            "\n",
            "--- Review #9 ---\n",
            "Text:\n",
            "encouraged by the positive comments about this film on here i was looking forward to watching this film bad mistake i've seen films and this is truly one of the worst of them it's awful in almost every way editing pacing storyline 'acting ' soundtrack the film's only song a lame country tune is played no less than four times the film looks cheap and nasty and is boring in the extreme rarely have i been so happy to see the end credits of a film the only thing that prevents me giving this a score is harvey keitel while this is far from his best performance he at least seems to be making a bit of an effort one for keitel obsessives only\n",
            "True Sentiment: negative\n",
            "Predicted Sentiment: negative (Confidence: 0.01)\n",
            "Correct: True\n",
            "\u001b[1m1/1\u001b[0m \u001b[32m━━━━━━━━━━━━━━━━━━━━\u001b[0m\u001b[37m\u001b[0m \u001b[1m0s\u001b[0m 69ms/step\n",
            "\n",
            "--- Review #10 ---\n",
            "Text:\n",
            "if you like original gut wrenching laughter you will like this movie if you are young or old then you will love this movie hell even my mom liked it great camp\n",
            "True Sentiment: positive\n",
            "Predicted Sentiment: positive (Confidence: 0.97)\n",
            "Correct: True\n"
          ]
        }
      ]
    }
  ]
}